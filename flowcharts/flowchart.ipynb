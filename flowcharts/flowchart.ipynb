{
 "cells": [
  {
   "cell_type": "code",
   "execution_count": null,
   "id": "3e59b933-cfcd-40e3-9754-8faf69f3de5a",
   "metadata": {},
   "outputs": [],
   "source": [
    "import sys, os\n",
    "import pandas as pd \n",
    "import numpy as np\n",
    "import matplotlib.pyplot as plt\n",
    "import matplotlib\n",
    "import seaborn as sns\n",
    "\n",
    "import warnings\n",
    "warnings.filterwarnings('ignore')"
   ]
  },
  {
   "cell_type": "code",
   "execution_count": null,
   "id": "41425936-4a45-4fb4-bd91-86bcbdf60bee",
   "metadata": {},
   "outputs": [],
   "source": [
    "gene_list = pd.read_csv(\"../../single_cell/gene_lists_final.csv\", sep=\",\")"
   ]
  },
  {
   "cell_type": "code",
   "execution_count": null,
   "id": "9b2939e3-a09d-494c-aa5c-53b3b1af5a0d",
   "metadata": {},
   "outputs": [],
   "source": [
    "t1_genes = set(gene_list['Type I'])\n",
    "t2_genes = set(gene_list['Type II'])\n",
    "aseNeg_immINP_genes = set(gene_list['Ase- immINPs'])\n",
    "asePos_immINP_genes = set(gene_list['Ase+ immINPs'])\n",
    "INP_genes = set(gene_list['INPs'])"
   ]
  },
  {
   "cell_type": "code",
   "execution_count": null,
   "id": "8970fe35-bd10-49a2-97c4-af1e61d733df",
   "metadata": {},
   "outputs": [],
   "source": [
    "t1_TF_genes = set(gene_list['Type I TFs'])\n",
    "t2_TF_genes = set(gene_list['Type II TFs'])\n",
    "aseNeg_immINP_TF_genes = set(gene_list['Ase- immINPs TFs'])\n",
    "asePos_immINP_TF_genes = set(gene_list['Ase+ immINPs TFs'])\n",
    "INP_TF_genes = set(gene_list['INPs TFs'])"
   ]
  },
  {
   "cell_type": "code",
   "execution_count": null,
   "id": "5a4e1f5f-53b4-458c-9b85-ac03afc1d4e8",
   "metadata": {},
   "outputs": [],
   "source": [
    "df = pd.read_csv(\"../analysis_data/flowchart_v4/typeII-promoter.anno.txt\", sep=\"\\t\")"
   ]
  },
  {
   "cell_type": "code",
   "execution_count": null,
   "id": "1fbbe60b-e4f4-4caa-9cb0-774c51ca89f6",
   "metadata": {},
   "outputs": [],
   "source": [
    "df['location']=df['Chr']+\": \"+(df['Start']-1).astype(str)+\"..\"+df['End'].astype(str)"
   ]
  },
  {
   "cell_type": "code",
   "execution_count": null,
   "id": "3498fc0d-aaa8-4e84-8210-e5fb5cacd036",
   "metadata": {},
   "outputs": [],
   "source": [
    "reg_tf_t2 = pd.read_csv(\"../analysis_data/flowchart_v4/regulatory-tf_t2.bed\", sep=\"\\t\", names=['Chr', 'Start', 'End'])\n",
    "typeI_open = pd.read_csv(\"../analysis_data/flowchart_v4/typeI_open.bed\", sep=\"\\t\", names=['Chr', 'Start', 'End'])\n",
    "reg_tf_t1 = pd.read_csv(\"../analysis_data/flowchart_v4/regulatory-tf_t1.bed\", sep=\"\\t\", names=['Chr', 'Start', 'End'])\n",
    "inp_open = pd.read_csv(\"../analysis_data/flowchart_v4/INP_open.bed\", sep=\"\\t\", names=['Chr', 'Start', 'End'])\n",
    "\n",
    "reg_tf_t2_inp_open = pd.read_csv(\"../analysis_data/flowchart_v4/regulatory-tf_t2_INP_open.bed\", sep=\"\\t\", names=['Chr', 'Start', 'End'])\n",
    "reg_tf_t2_inp_closed = pd.read_csv(\"../analysis_data/flowchart_v4/regulatory-tf_t2_INP_closed.bed\", sep=\"\\t\", names=['Chr', 'Start', 'End'])\n",
    "\n",
    "pan_neural = pd.read_csv(\"../analysis_data/flowchart_v4/Pan-neural.bed\", sep=\"\\t\", names=['Chr', 'Start', 'End'])\n",
    "T2_lineage = pd.read_csv(\"../analysis_data/flowchart_v4/T2_lineage.bed\", sep=\"\\t\", names=['Chr', 'Start', 'End'])\n",
    "pan_NB = pd.read_csv(\"../analysis_data/flowchart_v4/Pan-NB.bed\", sep=\"\\t\", names=['Chr', 'Start', 'End'])\n",
    "T2_NB = pd.read_csv(\"../analysis_data/flowchart_v4/T2_NB.bed\", sep=\"\\t\", names=['Chr', 'Start', 'End'])"
   ]
  },
  {
   "cell_type": "code",
   "execution_count": null,
   "id": "af24e202-8008-4005-be3e-cb562fa72a66",
   "metadata": {},
   "outputs": [],
   "source": [
    "reg_tf_t2['location']=\"chr\"+reg_tf_t2['Chr']+\": \"+reg_tf_t2['Start'].astype(str)+\"..\"+reg_tf_t2['End'].astype(str)\n",
    "typeI_open['location']=\"chr\"+typeI_open['Chr']+\": \"+typeI_open['Start'].astype(str)+\"..\"+typeI_open['End'].astype(str)\n",
    "reg_tf_t1['location']=\"chr\"+reg_tf_t1['Chr']+\": \"+reg_tf_t1['Start'].astype(str)+\"..\"+reg_tf_t1['End'].astype(str)\n",
    "inp_open['location']=\"chr\"+inp_open['Chr']+\": \"+inp_open['Start'].astype(str)+\"..\"+inp_open['End'].astype(str)\n",
    "\n",
    "reg_tf_t2_inp_open['location']=\"chr\"+reg_tf_t2_inp_open['Chr']+\": \"+reg_tf_t2_inp_open['Start'].astype(str)+\"..\"+reg_tf_t2_inp_open['End'].astype(str)\n",
    "reg_tf_t2_inp_closed['location']=\"chr\"+reg_tf_t2_inp_closed['Chr']+\": \"+reg_tf_t2_inp_closed['Start'].astype(str)+\"..\"+reg_tf_t2_inp_closed['End'].astype(str)\n",
    "\n",
    "pan_neural['location']=\"chr\"+pan_neural['Chr']+\": \"+pan_neural['Start'].astype(str)+\"..\"+pan_neural['End'].astype(str)\n",
    "T2_lineage['location']=\"chr\"+T2_lineage['Chr']+\": \"+T2_lineage['Start'].astype(str)+\"..\"+T2_lineage['End'].astype(str)\n",
    "pan_NB['location']=\"chr\"+pan_NB['Chr']+\": \"+pan_NB['Start'].astype(str)+\"..\"+pan_NB['End'].astype(str)\n",
    "T2_NB['location']=\"chr\"+T2_NB['Chr']+\": \"+T2_NB['Start'].astype(str)+\"..\"+T2_NB['End'].astype(str)"
   ]
  },
  {
   "cell_type": "code",
   "execution_count": null,
   "id": "64132b50-cc53-43ec-80d9-d7df36824358",
   "metadata": {},
   "outputs": [],
   "source": [
    "to_remove = ['Peak Score', 'Focus Ratio/Region Size', 'Nearest PromoterID', 'Entrez ID', 'Nearest Unigene', 'Nearest Refseq', 'Nearest Ensembl', 'Gene Alias', 'Gene Description', 'Gene Type']\n",
    "df = df.drop(columns=to_remove)"
   ]
  },
  {
   "cell_type": "code",
   "execution_count": null,
   "id": "2e290b47-d927-4147-9fe0-f4bf264e7fe4",
   "metadata": {},
   "outputs": [],
   "source": [
    "print(\"Type II - promoter: \" + str(len(df)))\n",
    "\n",
    "df['reg_tf_t2'] = df['location'].isin(reg_tf_t2['location'])\n",
    "print(\"Regulatory TF type II: \" + str(sum(df['reg_tf_t2'])))\n",
    "df['typeI_open'] = df['location'].isin(typeI_open['location'])\n",
    "print(\"T1-Open: \" + str(sum(df['typeI_open'])))\n",
    "df['inp_open'] = df['location'].isin(inp_open['location'])\n",
    "print(\"INP open: \" + str(sum(df['inp_open'])))\n",
    "df['reg_tf_t1'] = df['location'].isin(reg_tf_t1['location'])\n",
    "print(\"Regulatory TF type I: \" + str(sum(df['reg_tf_t1'])))\n",
    "\n",
    "df['reg_tf_t2_inp_open'] = df['location'].isin(reg_tf_t2_inp_open['location'])\n",
    "print(\"INP_open_reg_tf_t2:\" + str(sum(df['reg_tf_t2_inp_open'])))\n",
    "df['reg_tf_t2_inp_closed'] = df['location'].isin(reg_tf_t2_inp_closed['location'])\n",
    "print(\"INP_closed_reg_tf_t2:\" + str(sum(df['reg_tf_t2_inp_closed'])))\n",
    "\n",
    "df['is_pan_neural'] = df['location'].isin(pan_neural['location'])\n",
    "print(\"Pan Neural: \" + str(sum(df['is_pan_neural'])))\n",
    "df['is_t2_lin_enh'] = df['location'].isin(T2_lineage['location'])\n",
    "print(\"T2 Lin Enh: \" + str(sum(df['is_t2_lin_enh'])))\n",
    "df['is_pan_NB'] = df['location'].isin(pan_NB['location'])\n",
    "print(\"Pan NB: \" + str(sum(df['is_pan_NB'])))\n",
    "df['is_t2_NB'] = df['location'].isin(T2_NB['location'])\n",
    "print(\"T2 NB: \" + str(sum(df['is_t2_NB'])))"
   ]
  },
  {
   "cell_type": "code",
   "execution_count": null,
   "id": "fe3bb7a9-981f-4884-a7fa-0330baf74383",
   "metadata": {},
   "outputs": [],
   "source": [
    "btd = pd.read_csv(\"../analysis_data/flowchart/btd-overlap.bed\", sep=\"\\t\", names=['Chr', 'Start', 'End'])\n",
    "fruC = pd.read_csv(\"../analysis_data/flowchart/fruC-myc-overlap.bed\", sep=\"\\t\", names=['Chr', 'Start', 'End'])\n",
    "zld = pd.read_csv(\"../analysis_data/flowchart/zld-overlap.bed\", sep=\"\\t\", names=['Chr', 'Start', 'End'])\n",
    "ase = pd.read_csv(\"../analysis_data/flowchart/ase-overlap.bed\", sep=\"\\t\", names=['Chr', 'Start', 'End'])\n",
    "fru_aPKC = pd.read_csv(\"../analysis_data/flowchart_v3/fruCOM-aPKC-overlap.bed\", sep=\"\\t\", names=['Chr', 'Start', 'End'])\n",
    "zld_aPKC = pd.read_csv(\"../analysis_data/flowchart_v3/zld-aPKC-overlap.bed\", sep=\"\\t\", names=['Chr', 'Start', 'End'])"
   ]
  },
  {
   "cell_type": "code",
   "execution_count": null,
   "id": "56db018b-11a8-4dd6-a2fc-9776799d30a6",
   "metadata": {},
   "outputs": [],
   "source": [
    "dfs = ['btd', 'fruC', 'zld', 'ase', 'fru_aPKC', 'zld_aPKC']\n",
    "\n",
    "for df_name in dfs:\n",
    "    actual_df = globals()[df_name]\n",
    "    actual_df['location']=\"chr\"+actual_df['Chr']+\": \"+actual_df['Start'].astype(str)+\"..\"+actual_df['End'].astype(str)\n",
    "    temp = df_name+\"_bound\"\n",
    "    df[temp] = df['location'].isin(actual_df['location'])\n",
    "    globals()[df_name] = actual_df  # Update the global variable with modified DataFrame"
   ]
  },
  {
   "cell_type": "code",
   "execution_count": null,
   "id": "78078312-05bb-4de4-b7dc-b367666da95e",
   "metadata": {},
   "outputs": [],
   "source": [
    "df['RNA_Type_I_NB_Enriched'] = df['Gene Name'].isin(gene_list['Type I'])\n",
    "df['RNA_Type_II_NB_Enriched'] = df['Gene Name'].isin(gene_list['Type II'])\n",
    "df['RNA_aseNeg_immINPs'] = df['Gene Name'].isin(gene_list['Ase- immINPs'])\n",
    "df['RNA_asePos_immINPs'] = df['Gene Name'].isin(gene_list['Ase+ immINPs'])\n",
    "df['RNA_INPs'] = df['Gene Name'].isin(gene_list['INPs'])\n",
    "df['TF_RNA_Type_I_NB_Enriched'] = df['Gene Name'].isin(gene_list['Type I TFs'])\n",
    "df['TF_RNA_Type_II_NB_Enriched'] = df['Gene Name'].isin(gene_list['Type II TFs'])\n",
    "df['TF_RNA_aseNeg_INPs'] = df['Gene Name'].isin(gene_list['Ase- immINPs TFs'])\n",
    "df['TF_RNA_asePos_INPs'] = df['Gene Name'].isin(gene_list['Ase+ immINPs TFs'])\n",
    "df['TF_RNA_INPs'] = df['Gene Name'].isin(gene_list['INPs TFs'])"
   ]
  },
  {
   "cell_type": "code",
   "execution_count": null,
   "id": "83ad53eb-a61d-483f-829a-9484194a9dae",
   "metadata": {},
   "outputs": [],
   "source": [
    "df.to_csv(\"../analysis_data/flowchart_v4/mastersheet.tsv\", sep='\\t')"
   ]
  }
 ],
 "metadata": {
  "kernelspec": {
   "display_name": "Python 3 (ipykernel)",
   "language": "python",
   "name": "python3"
  },
  "language_info": {
   "codemirror_mode": {
    "name": "ipython",
    "version": 3
   },
   "file_extension": ".py",
   "mimetype": "text/x-python",
   "name": "python",
   "nbconvert_exporter": "python",
   "pygments_lexer": "ipython3",
   "version": "3.9.16"
  }
 },
 "nbformat": 4,
 "nbformat_minor": 5
}
